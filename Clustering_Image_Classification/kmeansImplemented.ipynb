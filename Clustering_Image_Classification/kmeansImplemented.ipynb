{
 "cells": [
  {
   "cell_type": "code",
   "execution_count": 6,
   "metadata": {},
   "outputs": [
    {
     "name": "stdout",
     "output_type": "stream",
     "text": [
      "is done creating dic\n",
      "is done!\n",
      "1.18571901321\n"
     ]
    }
   ],
   "source": [
    "import numpy as np\n",
    "import scipy\n",
    "import math\n",
    "import os\n",
    "import cv2\n",
    "import math\n",
    "from scipy import misc\n",
    "import numpy as np\n",
    "from numpy.linalg import inv\n",
    "from skimage.draw import circle\n",
    "import matplotlib.pyplot as plt\n",
    "import time\n",
    "from random import randint\n",
    "\n",
    "\n",
    "sift = cv2.xfeatures2d.SIFT_create()\n",
    "\n",
    "\n",
    "mypicdict=[]\n",
    "rootdir=\"101_ObjectCategories\"\n",
    "classes=0\n",
    "dude=False\n",
    "for subdir, dirs, files in os.walk(rootdir):  #loads my files into a dictionary\n",
    "    classes+=1\n",
    "    for file in files:\n",
    "        if file != \".DS_Store\":\n",
    "            mypicdict.append(os.path.join(subdir, file))\n",
    "            dude=True\n",
    "    if dude is True:\n",
    "        break\n",
    "            \n",
    "print \"is done creating dic\"\n",
    "mymatrix=np.zeros((0, 128))\n",
    "start = time.time()\n",
    "for pic in mypicdict:\n",
    "    img1_ = cv2.imread(pic)\n",
    "    img1= cv2.cvtColor(img1_,cv2.COLOR_BGR2GRAY)\n",
    "    kp1, des1 = sift.detectAndCompute(img1,None)\n",
    "    try:\n",
    "        mymatrix=np.concatenate((mymatrix, des1[0:1]),  axis=0)\n",
    "        #print mymatrix.shape\n",
    "    except Exception:\n",
    "        print Exception\n",
    "        continue\n",
    "        \n",
    "print \"is done!\"\n",
    "end = time.time()\n",
    "print(end - start)\n",
    "#soft Assignment (Weighted distances.  This is totaly like the machine learning lab)\n",
    "\n",
    "# each descriptor votes and then make histogram.   Each dot is a single dot\n",
    "                "
   ]
  },
  {
   "cell_type": "code",
   "execution_count": 7,
   "metadata": {},
   "outputs": [
    {
     "name": "stdout",
     "output_type": "stream",
     "text": [
      "My number changed is  16\n",
      "My number changed is  9\n",
      "My number changed is  0\n",
      "i am done\n"
     ]
    },
    {
     "data": {
      "image/png": "[encoded data removed]",
      "text/plain": [
       "<matplotlib.figure.Figure at 0x11a94b790>"
      ]
     },
     "metadata": {},
     "output_type": "display_data"
    },
    {
     "data": {
      "image/png": "[encoded data removed]",
      "text/plain": [
       "<matplotlib.figure.Figure at 0x11abcac90>"
      ]
     },
     "metadata": {},
     "output_type": "display_data"
    }
   ],
   "source": [
    "#namedtuple\n",
    "#now time to cluster!. \n",
    "class point:\n",
    "    def __init__(self, matrix):\n",
    "        self.matrix=matrix\n",
    "class cluster:\n",
    "    def __init__(self, point, number):\n",
    "        self.number=number\n",
    "        self.center_point=point\n",
    "        self.mylist=[]\n",
    "        self.mylist.append(point)\n",
    "\n",
    "    def distance(self, listof):\n",
    "        return np.linalg.norm(self.center_point.matrix-listof)\n",
    "    def calcNewCentroid(self):\n",
    "        new_center=np.zeros((1,128))\n",
    "        for point in self.mylist:\n",
    "            new_center+=point.matrix\n",
    "        new_center/=len(self.mylist) \n",
    "        self.center=new_center\n",
    "            \n",
    "        \n",
    "mycenteriods=[]\n",
    "classes=40\n",
    "for x in range(classes):\n",
    "    mycenteriods.append(cluster(point(mymatrix[randint(0,mymatrix.shape[0]-1),:]), x))\n",
    "    \n",
    "    \n",
    "for x in range(mymatrix.shape[0]):\n",
    "    smallest=10000000000000000\n",
    "    loc=-1\n",
    "    for y in range(len(mycenteriods)):\n",
    "        temp=mycenteriods[y].distance(mymatrix[x])\n",
    "        #print temp\n",
    "        if temp<=smallest:\n",
    "            smallest=temp\n",
    "            loc=y\n",
    "            #print np.asarray([mymatrix[x]])\n",
    "            #print  mycenteriods[loc].mylist.shape, \"before\"\n",
    "    mycenteriods[loc].mylist.append( point(np.asarray([mymatrix[x]])))\n",
    "            #print  mycenteriods[loc].mylist.shape, \"after\"\n",
    "            \n",
    "for droid in mycenteriods:\n",
    "    droid.calcNewCentroid()\n",
    "numberchanged=10    \n",
    "while numberchanged>5:\n",
    "    numberchanged=0\n",
    "    for x in mycenteriods:\n",
    "        for point in x.mylist:\n",
    "            bestdistance=100000000000\n",
    "            checking=point.matrix\n",
    "            bestcentroid=None\n",
    "            for droid in mycenteriods:\n",
    "                tempdist=droid.distance(checking)                \n",
    "                if tempdist<bestdistance:\n",
    "                    bestdistance=tempdist\n",
    "                    bestcentroid=droid                    \n",
    "            if bestcentroid!=x:\n",
    "                #print \"i change it\"\n",
    "                #print bestcentroid.mylist.shape, checking.shape\n",
    "                #print \"before \", len(x.mylist)\n",
    "                x.mylist.remove(point)\n",
    "                #print \"after \", len(x.mylist)\n",
    "                bestcentroid.mylist.append(point)\n",
    "                numberchanged+=1\n",
    "           # else:\n",
    "                #print \"i don't change it\"\n",
    "                \n",
    "    print \"My number changed is \", numberchanged\n",
    "            \n",
    "print \"i am done\"\n",
    "\n",
    "def getClosest(myclusters, test):\n",
    "    smallest_dist=10000000000\n",
    "    location_of_it=-1\n",
    "    i=0\n",
    "    for clust in myclusters:\n",
    "        temp_dist=clust.distance(test) \n",
    "        if temp_dist<smallest_dist:\n",
    "            smallest_dist=temp_dist\n",
    "            location_of_it=i\n",
    "        i+=1\n",
    "    return location_of_it  \n",
    "    \n",
    "\n",
    "imageToTest=cv2.imread(\"test.jpg\")\n",
    "img1= cv2.cvtColor(img1_,cv2.COLOR_BGR2GRAY)\n",
    "kp1, des1 = sift.detectAndCompute(img1,None)\n",
    "mybar=[0]*len(mycenteriods)\n",
    "myhist=[]\n",
    "for x in range(des1.shape[0]):\n",
    "    val=getClosest(mycenteriods, des1[x])\n",
    "    #print val\n",
    "    mybar[val]+=1\n",
    "    myhist.append(val)\n",
    "    \n",
    "#print myhist\n",
    "    \n",
    "    \n",
    "import matplotlib.pyplot as plt\n",
    "\n",
    "\n",
    "# the histogram of the data\n",
    "\n",
    "plt.bar(np.arange(len(mybar)),mybar )\n",
    "plt.show()\n",
    "#print myhist\n",
    "plt.hist(myhist,  classes, facecolor='g', alpha=0.75)\n",
    "plt.show()\n",
    "\n",
    "        \n",
    "    "
   ]
  },
  {
   "cell_type": "code",
   "execution_count": 8,
   "metadata": {},
   "outputs": [
    {
     "ename": "ImportError",
     "evalue": "No module named sklearn",
     "output_type": "error",
     "traceback": [
      "\u001b[0;31m---------------------------------------------------------------------------\u001b[0m",
      "\u001b[0;31mImportError\u001b[0m                               Traceback (most recent call last)",
      "\u001b[0;32m<ipython-input-8-b7c74cbf5af0>\u001b[0m in \u001b[0;36m<module>\u001b[0;34m()\u001b[0m\n\u001b[0;32m----> 1\u001b[0;31m \u001b[0;32mimport\u001b[0m \u001b[0msklearn\u001b[0m\u001b[0;34m\u001b[0m\u001b[0m\n\u001b[0m",
      "\u001b[0;31mImportError\u001b[0m: No module named sklearn"
     ]
    }
   ],
   "source": []
  }
 ],
 "metadata": {
  "kernelspec": {
   "display_name": "Python 2",
   "language": "python",
   "name": "python2"
  },
  "language_info": {
   "codemirror_mode": {
    "name": "ipython",
    "version": 2
   },
   "file_extension": ".py",
   "mimetype": "text/x-python",
   "name": "python",
   "nbconvert_exporter": "python",
   "pygments_lexer": "ipython2",
   "version": "2.7.14"
  }
 },
 "nbformat": 4,
 "nbformat_minor": 2
}
