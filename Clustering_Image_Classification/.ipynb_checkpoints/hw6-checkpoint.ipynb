{
 "cells": [
  {
   "cell_type": "markdown",
   "metadata": {},
   "source": [
    "This is the part that sets up the images into k clusters for k means! In the other jupyter notebook I custom implemented the k means clustering for extra credit but I used the built in one here because it was faster!"
   ]
  },
  {
   "cell_type": "code",
   "execution_count": 67,
   "metadata": {},
   "outputs": [
    {
     "name": "stdout",
     "output_type": "stream",
     "text": [
      "now starting\n",
      "7.965710878372192\n",
      "is starting to make kmeans\n",
      "161.02727699279785\n",
      "is done with kmeans!\n"
     ]
    }
   ],
   "source": [
    "import sklearn\n",
    "import numpy as np\n",
    "import scipy\n",
    "import math\n",
    "import os\n",
    "import cv2\n",
    "import math\n",
    "from scipy import misc\n",
    "import numpy as np\n",
    "import matplotlib.pyplot as plt\n",
    "import time\n",
    "from random import randint\n",
    "import random\n",
    "from sklearn.cluster import KMeans\n",
    "from sklearn import svm\n",
    "from sklearn.svm import SVC \n",
    "\n",
    "print (\"now starting\")\n",
    "\n",
    "sift = cv2.xfeatures2d.SIFT_create()\n",
    "mypicdict=[]\n",
    "\n",
    "directory=\"Clustering\"\n",
    "for filename in os.listdir(directory):\n",
    "    mypicdict.append(directory+\"/\"+filename)\n",
    "        \n",
    "mymatrix=np.zeros((0, 128))\n",
    "start = time.time()\n",
    "for pic in mypicdict:\n",
    "    img1_ = cv2.imread(pic)\n",
    "    img1= cv2.cvtColor(img1_,cv2.COLOR_BGR2GRAY)\n",
    "    kp1, des1 = sift.detectAndCompute(img1,None)\n",
    "    try:\n",
    "        mymatrix=np.concatenate((mymatrix, des1[0:des1.shape[0]-1]),  axis=0) #this takes a while\n",
    "    except Exception:\n",
    "        print (Exception)\n",
    "        continue\n",
    "        \n",
    "end = time.time()\n",
    "print((end - start))\n",
    "print (\"is starting to make kmeans\")\n",
    "start=time.time()\n",
    "kmeans = KMeans(n_clusters=100).fit(mymatrix)\n",
    "end=time.time()\n",
    "print((end - start))\n",
    "print (\"is done with kmeans!\")\n",
    "\n",
    "\n"
   ]
  },
  {
   "attachments": {},
   "cell_type": "markdown",
   "metadata": {},
   "source": [
    "So it seems that for this lab about 100 clusters was the best accuracy for most categories as you can see in the table below! (if its not showing up its the image in this folder)\n",
    "![title](Cluster_Accuracy.png)  I ran this on the first 25 categories of the CalTech data set Perhaps for different data sets another number would be more optimal but at least for these categories 100 seemed to be the best. It also seemed in general that my accuracy was really struggling to improve above forty percent so perhaps if I ran with all the images in that data set this would improve more.  Unfortunately for me my computer was barely able to run the 25 data sets in a reasonable amount of time! On this data set also I used about 5 to cluster on from each class and half to train on and halt to test on and each class had about 50 in total to keep it evenly distibuted across each class.  \n"
   ]
  },
  {
   "cell_type": "markdown",
   "metadata": {},
   "source": []
  },
  {
   "cell_type": "markdown",
   "metadata": {},
   "source": [
    "This is the code that I train the SVM's on!  An example of histogram is shown!"
   ]
  },
  {
   "cell_type": "code",
   "execution_count": 68,
   "metadata": {},
   "outputs": [
    {
     "data": {
      "image/png": "[encoded data removed]",
      "text/plain": [
       "<Figure size 432x288 with 1 Axes>"
      ]
     },
     "metadata": {},
     "output_type": "display_data"
    }
   ],
   "source": [
    "#Training\n",
    "rootdir=\"101_ObjectCategories\"\n",
    "mysklearners=[]\n",
    "mydirs=[]\n",
    "firsttime=True\n",
    "myhists=[]\n",
    "for subdir, dirs, files in os.walk(rootdir):  \n",
    "    myhist=[]\n",
    "    mybarchart=[0]*100\n",
    "    X=[]\n",
    "    y=[]\n",
    "    if firsttime==True:\n",
    "        mydirs=dirs\n",
    "        firsttime=False\n",
    "        continue\n",
    "    flag=True\n",
    "    while flag==True:\n",
    "        test=random.choice(mydirs)\n",
    "        if os.listdir(rootdir+\"/\"+test)!=files:\n",
    "            flag=False\n",
    "    #print (\"training on \", subdir)\n",
    "    for file in files:\n",
    "        if file != \".DS_Store\":\n",
    "            temp=os.path.join(subdir, file)\n",
    "            imageToTest=cv2.imread(temp)\n",
    "            img1= cv2.cvtColor(imageToTest,cv2.COLOR_BGR2GRAY)\n",
    "            kp1, des1 = sift.detectAndCompute(img1,None)\n",
    "            for x in range(des1.shape[0]):\n",
    "                #print(kmeans.predict(np.asarray([des1[x]])))\n",
    "                result=kmeans.predict(np.asarray([des1[x]]))[0]\n",
    "                myhist.append(result)\n",
    "                mybarchart[result]+=1\n",
    "            myhists.append(myhist)    \n",
    "            X.append(mybarchart)\n",
    "            y.append(0)\n",
    "            #break\n",
    "    #print (\"invalid data from \", test)        \n",
    "    for file in os.listdir(rootdir+\"/\"+test):  \n",
    "        if file != \".DS_Store\":\n",
    "            #print (\"hello there\",file)\n",
    "            temp=rootdir+\"/\"+test+\"/\"+file\n",
    "            imageToTest=cv2.imread(temp)\n",
    "            img1= cv2.cvtColor(imageToTest,cv2.COLOR_BGR2GRAY)\n",
    "            kp1, des1 = sift.detectAndCompute(img1,None)\n",
    "            for x in range(des1.shape[0]):\n",
    "                #print(kmeans.predict(np.asarray([des1[x]])))\n",
    "                result=kmeans.predict(np.asarray([des1[x]]))[0]\n",
    "                myhist.append(result)\n",
    "                mybarchart[result]+=1    \n",
    "            X.append(mybarchart)\n",
    "            y.append(1)\n",
    "            #break\n",
    "    #print (\"doing file \",  dirs)        \n",
    "    model = SVC(kernel='linear', C=1E10, probability=True)\n",
    "    X=np.asarray(X)\n",
    "    y=np.asarray(y)\n",
    "    #print (X.shape, y.shape)\n",
    "    #print (y)\n",
    "    if X.shape[0]==0:\n",
    "        continue\n",
    "    #print(\"predicting now\")    \n",
    "    model.fit(X, y)\n",
    "    mysklearners.append(model)\n",
    "    break\n",
    "x=0\n",
    "\n",
    "plt.title(mydirs[x])\n",
    "#print (hist)\n",
    "plt.hist(hist,  100, facecolor='g', alpha=0.75)\n",
    "plt.show()    "
   ]
  },
  {
   "cell_type": "markdown",
   "metadata": {},
   "source": [
    "As you can see in the code above I decided to run my lab on the SVM learner that was provided by sklearn!  As this was what was recommended on the spec and had documnetation,  this is what I decided to ultimatly run on my project!  I essentially made an svm for each folder/class that I trained both positive and negative instances of that image. I then below in my training would then test each svm to see which one produces the higest result. The one with the highest confidence would be the class I would decide it would be.   "
   ]
  },
  {
   "cell_type": "code",
   "execution_count": null,
   "metadata": {
    "collapsed": true
   },
   "outputs": [],
   "source": []
  },
  {
   "cell_type": "markdown",
   "metadata": {},
   "source": [
    "This is where I run my testing on!"
   ]
  },
  {
   "cell_type": "code",
   "execution_count": null,
   "metadata": {},
   "outputs": [],
   "source": [
    "rootdir=\"Testing\"\n",
    "x=0\n",
    "from sklearn.metrics import average_precision_score\n",
    "scores=[]\n",
    "Y=[]\n",
    "for subdir, dirs, files in os.walk(rootdir):  #loads my files into a dictionary\n",
    "  for model in mysklearners:\n",
    "    X=[]\n",
    "    y=[]\n",
    "    y2=[]\n",
    "    if files==[]:\n",
    "        continue\n",
    "    for file in files:\n",
    "    \n",
    "        if file != \".DS_Store\":\n",
    "            myhist=[]\n",
    "            mybarchart=[0]*100\n",
    "            temp=os.path.join(subdir, file)\n",
    "            imageToTest=cv2.imread(temp)\n",
    "            img1= cv2.cvtColor(imageToTest,cv2.COLOR_BGR2GRAY)\n",
    "            kp1, des1 = sift.detectAndCompute(img1,None)\n",
    "            for x in range(des1.shape[0]):\n",
    "                result=kmeans.predict(np.asarray([des1[x]]))[0]\n",
    "                myhist.append(result)\n",
    "                mybarchart[result]+=1        \n",
    "            X.append(mybarchart)\n",
    "            y.append(1)\n",
    "            y.append(0)\n",
    "            #break\n",
    "        else:\n",
    "            continue \n",
    "    if len(X)!=0:       \n",
    "        #print (X)   \n",
    "        yscores=model.predict_proba(X)\n",
    "        #print (yscores.flatten('F'))\n",
    "        #print (y+y2)        \n",
    "        scores.append((average_precision_score(y+y2, yscores.flatten('F'))),subdir )      \n",
    "        Y.append(y)\n",
    "   "
   ]
  },
  {
   "attachments": {},
   "cell_type": "markdown",
   "metadata": {},
   "source": [
    "\n",
    "As you can see in the charts below there appears to be a great amount of flux between classes.  It appears that butterfly and crabs are able to be run a lot more accurately then airplanes. Looking through these pictures it makes sense as the airplanes are very diverse low quality pictures unlike the crabs or butterflies. As far as for different sized clusters again it seems that a couple of classes like chandeliers will improve if I decrease the number of clusters however this is more than offset by the decrease in accuracy to the butterfly classification svm.  The recall curve area is also described in the images shown below. \n"
   ]
  },
  {
   "cell_type": "code",
   "execution_count": 77,
   "metadata": {},
   "outputs": [
    {
     "data": {
      "image/png": "[encoded data removed]",
      "text/plain": [
       "<Figure size 432x288 with 1 Axes>"
      ]
     },
     "metadata": {},
     "output_type": "display_data"
    },
    {
     "data": {
      "image/png": "[encoded data removed]",
      "text/plain": [
       "<Figure size 432x288 with 1 Axes>"
      ]
     },
     "metadata": {},
     "output_type": "display_data"
    },
    {
     "data": {
      "image/png": "[encoded data removed]",
      "text/plain": [
       "<Figure size 432x288 with 1 Axes>"
      ]
     },
     "metadata": {},
     "output_type": "display_data"
    },
    {
     "data": {
      "image/png": "[encoded data removed]",
      "text/plain": [
       "<Figure size 432x288 with 1 Axes>"
      ]
     },
     "metadata": {},
     "output_type": "display_data"
    },
    {
     "data": {
      "image/png": "[encoded data removed]",
      "text/plain": [
       "<Figure size 432x288 with 1 Axes>"
      ]
     },
     "metadata": {},
     "output_type": "display_data"
    }
   ],
   "source": [
    "from sklearn.metrics import average_precision_score\n",
    "from sklearn.metrics import precision_recall_curve\n",
    "\n",
    "for y in range(5):\n",
    "  y_true=[]  \n",
    "  for x in scores:\n",
    "    if x==mydirs[y]:\n",
    "        y_true.append(x[0])\n",
    "  y_scores=Y    \n",
    "\n",
    "  #y_true=np.asarray(y_true)\n",
    "  #y_scores=np.asarray(y_scores)    \n",
    "  average_precision=average_precision_score(y_true, y_scores)  \n",
    "  precision, recall, _ = precision_recall_curve(y_true, y_scores)\n",
    "\n",
    "  plt.step(recall, precision, color='b', alpha=0.2,\n",
    "         where='post')\n",
    "  plt.fill_between(recall, precision, step='post', alpha=0.2,\n",
    "                 color='b')\n",
    "\n",
    "  plt.xlabel('Recall')\n",
    "  plt.ylabel('Precision')\n",
    "  plt.title('2-class Precision-Recall curve:AP={0:0.2f} for '.format(\n",
    "          average_precision)+mydirs[y])\n",
    "  plt.show()"
   ]
  }
 ],
 "metadata": {
  "kernelspec": {
   "display_name": "Python 3",
   "language": "python",
   "name": "python3"
  },
  "language_info": {
   "codemirror_mode": {
    "name": "ipython",
    "version": 3
   },
   "file_extension": ".py",
   "mimetype": "text/x-python",
   "name": "python",
   "nbconvert_exporter": "python",
   "pygments_lexer": "ipython3",
   "version": "3.6.5"
  }
 },
 "nbformat": 4,
 "nbformat_minor": 2
}
